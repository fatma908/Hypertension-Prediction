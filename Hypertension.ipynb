{
  "nbformat": 4,
  "nbformat_minor": 0,
  "metadata": {
    "colab": {
      "provenance": []
    },
    "kernelspec": {
      "name": "python3",
      "display_name": "Python 3"
    },
    "language_info": {
      "name": "python"
    }
  },
  "cells": [
    {
      "cell_type": "code",
      "execution_count": 1,
      "metadata": {
        "id": "L2QbrQipS1SB"
      },
      "outputs": [],
      "source": [
        "import pandas as pd\n",
        "import numpy as np\n",
        "from sklearn.preprocessing import LabelEncoder, StandardScaler"
      ]
    },
    {
      "cell_type": "code",
      "source": [
        "df = pd.read_csv(\"/content/hypertension_dataset 2.csv\")"
      ],
      "metadata": {
        "id": "ZTsI5nWiVAIe"
      },
      "execution_count": 2,
      "outputs": []
    },
    {
      "cell_type": "code",
      "source": [
        "print(\"Initial shape:\", df.shape)\n",
        "print(\"\\nFirst 5 rows:\")\n",
        "print(df.head())"
      ],
      "metadata": {
        "colab": {
          "base_uri": "https://localhost:8080/"
        },
        "id": "vSDHZ-q4VRcf",
        "outputId": "4b5b189f-6dc5-4eef-dd09-992d1e11ed69"
      },
      "execution_count": 7,
      "outputs": [
        {
          "output_type": "stream",
          "name": "stdout",
          "text": [
            "Initial shape: (1985, 11)\n",
            "\n",
            "First 5 rows:\n",
            "   age  salt_intake  stress_score       bp_history  sleep_duration   bmi  \\\n",
            "0   69          8.0             9           Normal             6.4  25.8   \n",
            "1   32         11.7            10           Normal             5.4  23.4   \n",
            "2   78          9.5             3           Normal             7.1  18.7   \n",
            "3   38         10.0            10     Hypertension             4.2  22.1   \n",
            "4   41          9.8             1  Prehypertension             5.8  16.2   \n",
            "\n",
            "      medication family_history exercise_level smoking_status has_hypertension  \n",
            "0            NaN            Yes            Low     Non-Smoker              Yes  \n",
            "1            NaN             No            Low     Non-Smoker               No  \n",
            "2            NaN             No       Moderate     Non-Smoker               No  \n",
            "3  ACE Inhibitor             No            Low     Non-Smoker              Yes  \n",
            "4          Other             No       Moderate     Non-Smoker               No  \n"
          ]
        }
      ]
    },
    {
      "cell_type": "code",
      "source": [
        "df.columns = (\n",
        "    df.columns.str.strip()\n",
        "             .str.lower()\n",
        "             .str.replace(\" \", \"_\")\n",
        "             .str.replace(\"-\", \"_\")\n",
        ")\n",
        "\n",
        "print(\"\\nCleaned columns:\", df.columns.tolist())"
      ],
      "metadata": {
        "colab": {
          "base_uri": "https://localhost:8080/"
        },
        "id": "t_RI6tjGVeHp",
        "outputId": "e9f0fe27-f5ee-4aef-b4eb-2fc1435989ea"
      },
      "execution_count": 8,
      "outputs": [
        {
          "output_type": "stream",
          "name": "stdout",
          "text": [
            "\n",
            "Cleaned columns: ['age', 'salt_intake', 'stress_score', 'bp_history', 'sleep_duration', 'bmi', 'medication', 'family_history', 'exercise_level', 'smoking_status', 'has_hypertension']\n"
          ]
        }
      ]
    },
    {
      "cell_type": "code",
      "source": [
        "print(\"\\nMissing values per column:\\n\", df.isnull().sum())"
      ],
      "metadata": {
        "colab": {
          "base_uri": "https://localhost:8080/"
        },
        "id": "HRUZd8iNV6NU",
        "outputId": "b954b4a8-a7ec-4564-b2a9-3289515dfb03"
      },
      "execution_count": 9,
      "outputs": [
        {
          "output_type": "stream",
          "name": "stdout",
          "text": [
            "\n",
            "Missing values per column:\n",
            " age                   0\n",
            "salt_intake           0\n",
            "stress_score          0\n",
            "bp_history            0\n",
            "sleep_duration        0\n",
            "bmi                   0\n",
            "medication          799\n",
            "family_history        0\n",
            "exercise_level        0\n",
            "smoking_status        0\n",
            "has_hypertension      0\n",
            "dtype: int64\n"
          ]
        }
      ]
    },
    {
      "cell_type": "code",
      "source": [
        "for col in df.columns:\n",
        "    if df[col].dtype in [\"int64\", \"float64\"]:\n",
        "        df[col].fillna(df[col].median(), inplace=True)\n",
        "    else:\n",
        "        df[col].fillna(df[col].mode()[0], inplace=True)\n",
        "\n",
        "print(\"\\nMissing values after cleaning:\\n\", df.isnull().sum())"
      ],
      "metadata": {
        "colab": {
          "base_uri": "https://localhost:8080/"
        },
        "id": "vskuqN3TcG-w",
        "outputId": "a1d5c4f8-a9d3-4903-adb2-3cb6cecc41c5"
      },
      "execution_count": 10,
      "outputs": [
        {
          "output_type": "stream",
          "name": "stdout",
          "text": [
            "\n",
            "Missing values after cleaning:\n",
            " age                 0\n",
            "salt_intake         0\n",
            "stress_score        0\n",
            "bp_history          0\n",
            "sleep_duration      0\n",
            "bmi                 0\n",
            "medication          0\n",
            "family_history      0\n",
            "exercise_level      0\n",
            "smoking_status      0\n",
            "has_hypertension    0\n",
            "dtype: int64\n"
          ]
        },
        {
          "output_type": "stream",
          "name": "stderr",
          "text": [
            "/tmp/ipython-input-4282429337.py:3: FutureWarning: A value is trying to be set on a copy of a DataFrame or Series through chained assignment using an inplace method.\n",
            "The behavior will change in pandas 3.0. This inplace method will never work because the intermediate object on which we are setting values always behaves as a copy.\n",
            "\n",
            "For example, when doing 'df[col].method(value, inplace=True)', try using 'df.method({col: value}, inplace=True)' or df[col] = df[col].method(value) instead, to perform the operation inplace on the original object.\n",
            "\n",
            "\n",
            "  df[col].fillna(df[col].median(), inplace=True)\n",
            "/tmp/ipython-input-4282429337.py:5: FutureWarning: A value is trying to be set on a copy of a DataFrame or Series through chained assignment using an inplace method.\n",
            "The behavior will change in pandas 3.0. This inplace method will never work because the intermediate object on which we are setting values always behaves as a copy.\n",
            "\n",
            "For example, when doing 'df[col].method(value, inplace=True)', try using 'df.method({col: value}, inplace=True)' or df[col] = df[col].method(value) instead, to perform the operation inplace on the original object.\n",
            "\n",
            "\n",
            "  df[col].fillna(df[col].mode()[0], inplace=True)\n"
          ]
        }
      ]
    },
    {
      "cell_type": "code",
      "source": [
        "categorical_cols = df.select_dtypes(include=[\"object\", \"category\"]).columns\n",
        "print(\"\\nCategorical columns:\", categorical_cols.tolist())"
      ],
      "metadata": {
        "colab": {
          "base_uri": "https://localhost:8080/"
        },
        "id": "3SfoHlbncT5e",
        "outputId": "a6ed9dd4-4dec-46e4-b303-e01f9c9e747a"
      },
      "execution_count": 11,
      "outputs": [
        {
          "output_type": "stream",
          "name": "stdout",
          "text": [
            "\n",
            "Categorical columns: ['bp_history', 'medication', 'family_history', 'exercise_level', 'smoking_status', 'has_hypertension']\n"
          ]
        }
      ]
    },
    {
      "cell_type": "code",
      "source": [
        "le = LabelEncoder()\n",
        "for col in categorical_cols:\n",
        "    df[col] = le.fit_transform(df[col].astype(str))"
      ],
      "metadata": {
        "id": "xObDc4RlcjqC"
      },
      "execution_count": 12,
      "outputs": []
    },
    {
      "cell_type": "code",
      "source": [
        "numeric_cols = df.select_dtypes(include=[\"int64\", \"float64\"]).columns"
      ],
      "metadata": {
        "id": "HE0Wx0qVdWmE"
      },
      "execution_count": 13,
      "outputs": []
    },
    {
      "cell_type": "code",
      "source": [
        "for col in numeric_cols:\n",
        "    q1 = df[col].quantile(0.25)\n",
        "    q3 = df[col].quantile(0.75)\n",
        "    iqr = q3 - q1\n",
        "    lower, upper = q1 - 1.5 * iqr, q3 + 1.5 * iqr\n",
        "    df[col] = np.where(df[col] < lower, lower,\n",
        "              np.where(df[col] > upper, upper, df[col]))"
      ],
      "metadata": {
        "id": "crbHDijWdctH"
      },
      "execution_count": 14,
      "outputs": []
    },
    {
      "cell_type": "code",
      "source": [
        "scaler = StandardScaler()\n",
        "df[numeric_cols] = scaler.fit_transform(df[numeric_cols])\n",
        "\n",
        "print(\"\\nFinal shape:\", df.shape)\n",
        "print(\"\\nDataset sample after cleaning:\\n\", df.head())"
      ],
      "metadata": {
        "colab": {
          "base_uri": "https://localhost:8080/"
        },
        "id": "lIpFvuIzdgCP",
        "outputId": "9f59caf4-5523-4ae2-8943-3fc03466614b"
      },
      "execution_count": 15,
      "outputs": [
        {
          "output_type": "stream",
          "name": "stdout",
          "text": [
            "\n",
            "Final shape: (1985, 11)\n",
            "\n",
            "Dataset sample after cleaning:\n",
            "         age  salt_intake  stress_score  bp_history  sleep_duration       bmi  \\\n",
            "0  0.959963    -0.267932      1.279847   -0.033215       -0.034347 -0.047975   \n",
            "1 -0.943609     1.601295      1.598165   -0.033215       -0.685527 -0.583232   \n",
            "2  1.422994     0.489863     -0.630061   -0.033215        0.421479 -1.631443   \n",
            "3 -0.634921     0.742461      1.598165   -1.326008       -1.466942 -0.873163   \n",
            "4 -0.480578     0.641422     -1.266698    1.259577       -0.425055 -2.189002   \n",
            "\n",
            "   medication  family_history  exercise_level  smoking_status  \\\n",
            "0         0.0        1.007585       -0.188282       -0.633125   \n",
            "1         0.0       -0.992472       -0.188282       -0.633125   \n",
            "2         0.0       -0.992472        1.211490       -0.633125   \n",
            "3         0.0       -0.992472       -0.188282       -0.633125   \n",
            "4         0.0       -0.992472        1.211490       -0.633125   \n",
            "\n",
            "   has_hypertension  \n",
            "0          0.960963  \n",
            "1         -1.040623  \n",
            "2         -1.040623  \n",
            "3          0.960963  \n",
            "4         -1.040623  \n"
          ]
        }
      ]
    }
  ]
}